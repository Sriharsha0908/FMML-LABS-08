{
  "cells": [
    {
      "cell_type": "markdown",
      "metadata": {
        "id": "view-in-github",
        "colab_type": "text"
      },
      "source": [
        "<a href=\"https://colab.research.google.com/github/Sriharsha0908/Sriharsha0908/blob/main/FMML_M1L2.ipynb\" target=\"_parent\"><img src=\"https://colab.research.google.com/assets/colab-badge.svg\" alt=\"Open In Colab\"/></a>"
      ]
    },
    {
      "cell_type": "markdown",
      "metadata": {
        "id": "3Eu9VZbF01eq"
      },
      "source": [
        "# Machine Learning terms and metrics\n",
        "\n",
        "FMML Module 1, Lab 2\n",
        "\n",
        "In this lab, we will show a part of the ML pipeline by using the California Housing dataset. There are 20640 samples, each with 8 attributes like income of the block, age of the houses per district etc. The task is to predict the cost of the houses per district. We will use the scikit-learn library to load the data and perform some basic data preprocessing and model training. We will also show how to evaluate the model using some common metrics, split the data into training and testing sets, and use cross-validation to get a better estimate of the model's performance."
      ]
    },
    {
      "cell_type": "markdown",
      "source": [],
      "metadata": {
        "id": "2Xacmf3Mt7aj"
      }
    },
    {
      "cell_type": "code",
      "execution_count": 1,
      "metadata": {
        "id": "8qBvyEem0vLi"
      },
      "outputs": [],
      "source": [
        "import numpy as np\n",
        "from sklearn import datasets\n",
        "import matplotlib.pyplot as plt\n",
        "\n",
        "rng = np.random.default_rng(seed=42)"
      ]
    },
    {
      "cell_type": "code",
      "execution_count": 3,
      "metadata": {
        "colab": {
          "base_uri": "https://localhost:8080/"
        },
        "id": "8LpqjN991GGJ",
        "outputId": "652bfcae-d5a9-44c0-f129-8e306d57cb7a"
      },
      "outputs": [
        {
          "output_type": "stream",
          "name": "stdout",
          "text": [
            ".. _california_housing_dataset:\n",
            "\n",
            "California Housing dataset\n",
            "--------------------------\n",
            "\n",
            "**Data Set Characteristics:**\n",
            "\n",
            ":Number of Instances: 20640\n",
            "\n",
            ":Number of Attributes: 8 numeric, predictive attributes and the target\n",
            "\n",
            ":Attribute Information:\n",
            "    - MedInc        median income in block group\n",
            "    - HouseAge      median house age in block group\n",
            "    - AveRooms      average number of rooms per household\n",
            "    - AveBedrms     average number of bedrooms per household\n",
            "    - Population    block group population\n",
            "    - AveOccup      average number of household members\n",
            "    - Latitude      block group latitude\n",
            "    - Longitude     block group longitude\n",
            "\n",
            ":Missing Attribute Values: None\n",
            "\n",
            "This dataset was obtained from the StatLib repository.\n",
            "https://www.dcc.fc.up.pt/~ltorgo/Regression/cal_housing.html\n",
            "\n",
            "The target variable is the median house value for California districts,\n",
            "expressed in hundreds of thousands of dollars ($100,000).\n",
            "\n",
            "This dataset was derived from the 1990 U.S. census, using one row per census\n",
            "block group. A block group is the smallest geographical unit for which the U.S.\n",
            "Census Bureau publishes sample data (a block group typically has a population\n",
            "of 600 to 3,000 people).\n",
            "\n",
            "A household is a group of people residing within a home. Since the average\n",
            "number of rooms and bedrooms in this dataset are provided per household, these\n",
            "columns may take surprisingly large values for block groups with few households\n",
            "and many empty houses, such as vacation resorts.\n",
            "\n",
            "It can be downloaded/loaded using the\n",
            ":func:`sklearn.datasets.fetch_california_housing` function.\n",
            "\n",
            ".. rubric:: References\n",
            "\n",
            "- Pace, R. Kelley and Ronald Barry, Sparse Spatial Autoregressions,\n",
            "  Statistics and Probability Letters, 33 (1997) 291-297\n",
            "\n"
          ]
        }
      ],
      "source": [
        "dataset = datasets.fetch_california_housing()\n",
        "# Dataset description\n",
        "print(dataset.DESCR)"
      ]
    },
    {
      "cell_type": "markdown",
      "metadata": {
        "id": "PCe1VNftevgE"
      },
      "source": [
        "Given below are the list of target values. These correspond to the house value derived considering all the 8 input features and are continuous values. We should use regression models to predict these values but we will start with a simple classification model for the sake of simplicity. We need to just round off the values to the nearest integer and use a classification model to predict the house value."
      ]
    },
    {
      "cell_type": "code",
      "execution_count": 4,
      "metadata": {
        "colab": {
          "base_uri": "https://localhost:8080/"
        },
        "id": "F8K0ggBOevgE",
        "outputId": "10baeb04-8908-4614-86cd-9c26cad28d4a"
      },
      "outputs": [
        {
          "output_type": "stream",
          "name": "stdout",
          "text": [
            "Orignal target values: [4.526 3.585 3.521 ... 0.923 0.847 0.894]\n",
            "Target values after conversion: [4 3 3 ... 0 0 0]\n",
            "Input variables shape: (20640, 8)\n",
            "Output variables shape: (20640,)\n"
          ]
        }
      ],
      "source": [
        "print(\"Orignal target values:\", dataset.target)\n",
        "\n",
        "dataset.target = dataset.target.astype(int)\n",
        "\n",
        "print(\"Target values after conversion:\", dataset.target)\n",
        "print(\"Input variables shape:\", dataset.data.shape)\n",
        "print(\"Output variables shape:\", dataset.target.shape)"
      ]
    },
    {
      "cell_type": "markdown",
      "metadata": {
        "id": "iNx4174W5xRg"
      },
      "source": [
        "The simplest model to use for classification is the K-Nearest Neighbors model. We will use this model to predict the house value with a K value of 1. We will also use the accuracy metric to evaluate the model."
      ]
    },
    {
      "cell_type": "code",
      "execution_count": 5,
      "metadata": {
        "id": "07zpydQj1hIQ"
      },
      "outputs": [],
      "source": [
        "def NN1(traindata, trainlabel, query):\n",
        "    \"\"\"\n",
        "    This function takes in the training data, training labels and a query point\n",
        "    and returns the predicted label for the query point using the nearest neighbour algorithm\n",
        "\n",
        "    traindata: numpy array of shape (n,d) where n is the number of samples and d is the number of features\n",
        "    trainlabel: numpy array of shape (n,) where n is the number of samples\n",
        "    query: numpy array of shape (d,) where d is the number of features\n",
        "\n",
        "    returns: the predicted label for the query point which is the label of the training data which is closest to the query point\n",
        "    \"\"\"\n",
        "    diff = (\n",
        "        traindata - query\n",
        "    )  # find the difference between features. Numpy automatically takes care of the size here\n",
        "    sq = diff * diff  # square the differences\n",
        "    dist = sq.sum(1)  # add up the squares\n",
        "    label = trainlabel[np.argmin(dist)]\n",
        "    return label\n",
        "\n",
        "\n",
        "def NN(traindata, trainlabel, testdata):\n",
        "    \"\"\"\n",
        "    This function takes in the training data, training labels and test data\n",
        "    and returns the predicted labels for the test data using the nearest neighbour algorithm\n",
        "\n",
        "    traindata: numpy array of shape (n,d) where n is the number of samples and d is the number of features\n",
        "    trainlabel: numpy array of shape (n,) where n is the number of samples\n",
        "    testdata: numpy array of shape (m,d) where m is the number of test samples and d is the number of features\n",
        "\n",
        "    returns: the predicted labels for the test data which is the label of the training data which is closest to each test point\n",
        "    \"\"\"\n",
        "    predlabel = np.array([NN1(traindata, trainlabel, i) for i in testdata])\n",
        "    return predlabel"
      ]
    },
    {
      "cell_type": "markdown",
      "metadata": {
        "id": "03JktkfIGaje"
      },
      "source": [
        "We will also define a 'random classifier', which randomly allots labels to each sample"
      ]
    },
    {
      "cell_type": "code",
      "execution_count": 6,
      "metadata": {
        "id": "fogWAtjyGhAH"
      },
      "outputs": [],
      "source": [
        "def RandomClassifier(traindata, trainlabel, testdata):\n",
        "    \"\"\"\n",
        "    This function takes in the training data, training labels and test data\n",
        "    and returns the predicted labels for the test data using the random classifier algorithm\n",
        "\n",
        "    In reality, we don't need these arguments but we are passing them to keep the function signature consistent with other classifiers\n",
        "\n",
        "    traindata: numpy array of shape (n,d) where n is the number of samples and d is the number of features\n",
        "    trainlabel: numpy array of shape (n,) where n is the number of samples\n",
        "    testdata: numpy array of shape (m,d) where m is the number of test samples and d is the number of features\n",
        "\n",
        "    returns: the predicted labels for the test data which is a random label from the training data\n",
        "    \"\"\"\n",
        "\n",
        "    classes = np.unique(trainlabel)\n",
        "    rints = rng.integers(low=0, high=len(classes), size=len(testdata))\n",
        "    predlabel = classes[rints]\n",
        "    return predlabel"
      ]
    },
    {
      "cell_type": "markdown",
      "metadata": {
        "id": "1Hjf1KHs7fU5"
      },
      "source": [
        "We need a metric to evaluate the performance of the model. Let us define a metric 'Accuracy' to see how good our learning algorithm is. Accuracy is the ratio of the number of correctly classified samples to the total number of samples. The higher the accuracy, the better the algorithm. We will use the accuracy metric to evaluate and compate the performance of the K-Nearest Neighbors model and the random classifier."
      ]
    },
    {
      "cell_type": "code",
      "execution_count": 7,
      "metadata": {
        "id": "ouuCqWU07bz-"
      },
      "outputs": [],
      "source": [
        "def Accuracy(gtlabel, predlabel):\n",
        "    \"\"\"\n",
        "    This function takes in the ground-truth labels and predicted labels\n",
        "    and returns the accuracy of the classifier\n",
        "\n",
        "    gtlabel: numpy array of shape (n,) where n is the number of samples\n",
        "    predlabel: numpy array of shape (n,) where n is the number of samples\n",
        "\n",
        "    returns: the accuracy of the classifier which is the number of correct predictions divided by the total number of predictions\n",
        "    \"\"\"\n",
        "    assert len(gtlabel) == len(\n",
        "        predlabel\n",
        "    ), \"Length of the ground-truth labels and predicted labels should be the same\"\n",
        "    correct = (\n",
        "        gtlabel == predlabel\n",
        "    ).sum()  # count the number of times the groundtruth label is equal to the predicted label.\n",
        "    return correct / len(gtlabel)"
      ]
    },
    {
      "cell_type": "markdown",
      "metadata": {
        "id": "4vJFwBFa9Klw"
      },
      "source": [
        "Let us make a function to split the dataset with the desired probability. We will use this function to split the dataset into training and testing sets. We will use the training set to train the model and the testing set to evaluate the model."
      ]
    },
    {
      "cell_type": "code",
      "execution_count": 8,
      "metadata": {
        "id": "Ko0VzpSM2Tdi"
      },
      "outputs": [],
      "source": [
        "def split(data, label, percent):\n",
        "    # generate a random number for each sample\n",
        "    rnd = rng.random(len(label))\n",
        "    split1 = rnd < percent\n",
        "    split2 = rnd >= percent\n",
        "\n",
        "    split1data = data[split1, :]\n",
        "    split1label = label[split1]\n",
        "    split2data = data[split2, :]\n",
        "    split2label = label[split2]\n",
        "    return split1data, split1label, split2data, split2label"
      ]
    },
    {
      "cell_type": "markdown",
      "metadata": {
        "id": "AcK3LEAJ_LGC"
      },
      "source": [
        "We will reserve 20% of our dataset as the test set. We will not change this portion throughout our experiments"
      ]
    },
    {
      "cell_type": "code",
      "execution_count": 9,
      "metadata": {
        "colab": {
          "base_uri": "https://localhost:8080/"
        },
        "id": "bBZkHBLJ1iU-",
        "outputId": "6f6d75ec-19ab-4b9c-f7e4-2af9a2c07860"
      },
      "outputs": [
        {
          "output_type": "stream",
          "name": "stdout",
          "text": [
            "Number of test samples: 4144\n",
            "Number of train samples: 16496\n",
            "Percent of test data: 20.07751937984496 %\n"
          ]
        }
      ],
      "source": [
        "testdata, testlabel, alltraindata, alltrainlabel = split(\n",
        "    dataset.data, dataset.target, 20 / 100\n",
        ")\n",
        "print(\"Number of test samples:\", len(testlabel))\n",
        "print(\"Number of train samples:\", len(alltrainlabel))\n",
        "print(\"Percent of test data:\", len(testlabel) * 100 / len(dataset.target), \"%\")"
      ]
    },
    {
      "cell_type": "markdown",
      "metadata": {
        "id": "a6Ss0Z6IAGNV"
      },
      "source": [
        "## Experiments with splits\n",
        "\n",
        "Let us reserve some of our train data as a validation set"
      ]
    },
    {
      "cell_type": "code",
      "execution_count": 10,
      "metadata": {
        "id": "WFew2iry_7W7"
      },
      "outputs": [],
      "source": [
        "traindata, trainlabel, valdata, vallabel = split(\n",
        "    alltraindata, alltrainlabel, 75 / 100)"
      ]
    },
    {
      "cell_type": "markdown",
      "metadata": {
        "id": "60hiu4clFN1i"
      },
      "source": [
        "What is the accuracy of our classifiers on the train dataset?"
      ]
    },
    {
      "cell_type": "code",
      "execution_count": 11,
      "metadata": {
        "colab": {
          "base_uri": "https://localhost:8080/"
        },
        "id": "DBlZDTHUFTZx",
        "outputId": "dea15d34-9827-4108-e041-d8b2e466d974"
      },
      "outputs": [
        {
          "output_type": "stream",
          "name": "stdout",
          "text": [
            "Training accuracy using nearest neighbour algorithm: 100.0 %\n",
            "Training accuracy using random classifier:  16.4375808538163 %\n"
          ]
        }
      ],
      "source": [
        "trainpred = NN(traindata, trainlabel, traindata)\n",
        "trainAccuracy = Accuracy(trainlabel, trainpred)\n",
        "print(\"Training accuracy using nearest neighbour algorithm:\", trainAccuracy*100, \"%\")\n",
        "\n",
        "trainpred = RandomClassifier(traindata, trainlabel, traindata)\n",
        "trainAccuracy = Accuracy(trainlabel, trainpred)\n",
        "print(\"Training accuracy using random classifier: \", trainAccuracy*100, \"%\")"
      ]
    },
    {
      "cell_type": "markdown",
      "metadata": {
        "id": "7h08-9gJDtSy"
      },
      "source": [
        "For nearest neighbour, the train accuracy is always 1. The accuracy of the random classifier is close to 1/(number of classes) which is 0.1666 in our case. This is because the random classifier randomly assigns a label to each sample and the probability of assigning the correct label is 1/(number of classes). Let us predict the labels for our validation set and get the accuracy. This accuracy is a good estimate of the accuracy of our model on unseen data."
      ]
    },
    {
      "cell_type": "code",
      "execution_count": 12,
      "metadata": {
        "colab": {
          "base_uri": "https://localhost:8080/"
        },
        "id": "4h7bXoW_2H3v",
        "outputId": "77a724cf-4a6d-4801-8229-09062309d922"
      },
      "outputs": [
        {
          "output_type": "stream",
          "name": "stdout",
          "text": [
            "Validation accuracy using nearest neighbour algorithm: 34.10852713178294 %\n",
            "Validation accuracy using random classifier: 16.884689922480618 %\n"
          ]
        }
      ],
      "source": [
        "valpred = NN(traindata, trainlabel, valdata)\n",
        "valAccuracy = Accuracy(vallabel, valpred)\n",
        "print(\"Validation accuracy using nearest neighbour algorithm:\", valAccuracy*100, \"%\")\n",
        "\n",
        "\n",
        "valpred = RandomClassifier(traindata, trainlabel, valdata)\n",
        "valAccuracy = Accuracy(vallabel, valpred)\n",
        "print(\"Validation accuracy using random classifier:\", valAccuracy*100, \"%\")"
      ]
    },
    {
      "cell_type": "markdown",
      "metadata": {
        "id": "py9bLguFEjfg"
      },
      "source": [
        "Validation accuracy of nearest neighbour is considerably less than its train accuracy while the validation accuracy of random classifier is the same. However, the validation accuracy of nearest neighbour is twice that of the random classifier. Now let us try another random split and check the validation accuracy. We will see that the validation accuracy changes with the split. This is because the validation set is small and the accuracy is highly dependent on the samples in the validation set. We can get a better estimate of the accuracy by using cross-validation."
      ]
    },
    {
      "cell_type": "code",
      "execution_count": 13,
      "metadata": {
        "colab": {
          "base_uri": "https://localhost:8080/"
        },
        "id": "ujm3cyYzEntE",
        "outputId": "e0aa83f8-5bad-46c0-8d13-60e767a7c7df"
      },
      "outputs": [
        {
          "output_type": "stream",
          "name": "stdout",
          "text": [
            "Validation accuracy using nearest neighbour algorithm: 34.048257372654156 %\n"
          ]
        }
      ],
      "source": [
        "traindata, trainlabel, valdata, vallabel = split(\n",
        "    alltraindata, alltrainlabel, 75 / 100)\n",
        "valpred = NN(traindata, trainlabel, valdata)\n",
        "valAccuracy = Accuracy(vallabel, valpred)\n",
        "print(\"Validation accuracy using nearest neighbour algorithm:\", valAccuracy*100, \"%\")"
      ]
    },
    {
      "cell_type": "markdown",
      "metadata": {
        "id": "oSOx7U83EKie"
      },
      "source": [
        "You can run the above cell multiple times to try with different random splits.\n",
        "We notice that the accuracy is different for each run, but close together.\n",
        "\n",
        "Now let us compare it with the accuracy we get on the test dataset."
      ]
    },
    {
      "cell_type": "code",
      "execution_count": 14,
      "metadata": {
        "colab": {
          "base_uri": "https://localhost:8080/"
        },
        "id": "PNEZ5ToYBEDW",
        "outputId": "d2a11f94-2262-4091-9d41-4d44d1e0baa5"
      },
      "outputs": [
        {
          "output_type": "stream",
          "name": "stdout",
          "text": [
            "Test accuracy: 34.91795366795367 %\n"
          ]
        }
      ],
      "source": [
        "testpred = NN(alltraindata, alltrainlabel, testdata)\n",
        "testAccuracy = Accuracy(testlabel, testpred)\n",
        "\n",
        "print(\"Test accuracy:\", testAccuracy*100, \"%\")"
      ]
    },
    {
      "cell_type": "markdown",
      "metadata": {
        "id": "w3dGD531K3gH"
      },
      "source": [
        "### Try it out for yourself and answer:\n",
        "1. How is the accuracy of the validation set affected if we increase the percentage of validation set? What happens when we reduce it?\n",
        "2. How does the size of the train and validation set affect how well we can predict the accuracy on the test set using the validation set?\n",
        "3. What do you think is a good percentage to reserve for the validation set so that thest two factors are balanced?\n",
        "\n",
        "Answer for both nearest neighbour and random classifier. You can note down the values for your experiments and plot a graph using  <a href=https://matplotlib.org/stable/gallery/lines_bars_and_markers/step_demo.html#sphx-glr-gallery-lines-bars-and-markers-step-demo-py>plt.plot<href>. Check also for extreme values for splits, like 99.9% or 0.1%"
      ]
    },
    {
      "cell_type": "markdown",
      "metadata": {
        "id": "M9zvdYY6evgI"
      },
      "source": [
        "> Exercise: Try to implement a 3 nearest neighbour classifier and compare the accuracy of the 1 nearest neighbour classifier and the 3 nearest neighbour classifier on the test dataset. You can use the KNeighborsClassifier class from the scikit-learn library to implement the K-Nearest Neighbors model. You can set the number of neighbors using the n_neighbors parameter. You can also use the accuracy_score function from the scikit-learn library to calculate the accuracy of the model."
      ]
    },
    {
      "cell_type": "markdown",
      "metadata": {
        "id": "PnYvkAZLQY7h"
      },
      "source": [
        "## Multiple Splits\n",
        "\n",
        "One way to get more accurate estimates for the test accuracy is by using <b>cross-validation</b>. Here, we will try a simple version, where we do multiple train/val splits and take the average of validation accuracies as the test accuracy estimation. Here is a function for doing this. Note that this function will take a long time to execute. You can reduce the number of splits to make it faster."
      ]
    },
    {
      "cell_type": "code",
      "execution_count": 17,
      "metadata": {
        "id": "E4nGCUQXBTzo"
      },
      "outputs": [],
      "source": [
        "def AverageAccuracy(alldata, alllabel, splitpercent, iterations, classifier=NN):\n",
        "    \"\"\"\n",
        "    This function takes in the data, labels, split percentage, number of iterations and classifier function\n",
        "    and returns the average accuracy of the classifier\n",
        "\n",
        "    alldata: numpy array of shape (n,d) where n is the number of samples and d is the number of features\n",
        "    alllabel: numpy array of shape (n,) where n is the number of samples\n",
        "    splitpercent: float which is the percentage of data to be used for training\n",
        "    iterations: int which is the number of iterations to run the classifier\n",
        "    classifier: function which is the classifier function to be used\n",
        "\n",
        "    returns: the average accuracy of the classifier\n",
        "    \"\"\"\n",
        "    accuracy = 0\n",
        "    for ii in range(iterations):\n",
        "        traindata, trainlabel, valdata, vallabel = split(\n",
        "            alldata, alllabel, splitpercent\n",
        "        )\n",
        "        valpred = classifier(traindata, trainlabel, valdata)\n",
        "        accuracy += Accuracy(vallabel, valpred)\n",
        "    return accuracy / iterations  # average of all accuracies"
      ]
    },
    {
      "cell_type": "code",
      "execution_count": 18,
      "metadata": {
        "colab": {
          "base_uri": "https://localhost:8080/"
        },
        "id": "H3qtNar7Bbik",
        "outputId": "bd9862fd-bac2-4d43-8eae-611ac9c3806e"
      },
      "outputs": [
        {
          "output_type": "stream",
          "name": "stdout",
          "text": [
            "Average validation accuracy: 33.58463539517022 %\n",
            "Test accuracy: 34.91795366795367 %\n"
          ]
        }
      ],
      "source": [
        "avg_acc = AverageAccuracy(alltraindata, alltrainlabel, 75 / 100, 10, classifier=NN)\n",
        "print(\"Average validation accuracy:\", avg_acc*100, \"%\")\n",
        "testpred = NN(alltraindata, alltrainlabel, testdata)\n",
        "\n",
        "print(\"Test accuracy:\", Accuracy(testlabel, testpred)*100, \"%\")"
      ]
    },
    {
      "cell_type": "markdown",
      "metadata": {
        "id": "33GIn4x5VH-d"
      },
      "source": [
        "This is a very simple way of doing cross-validation. There are many well-known algorithms for cross-validation, like k-fold cross-validation, leave-one-out etc. This will be covered in detail in a later module. For more information about cross-validation, check <a href=https://en.wikipedia.org/wiki/Cross-validation_(statistics)>Cross-validatioin (Wikipedia)</a>\n",
        "\n",
        "### Questions\n",
        "1. Does averaging the validation accuracy across multiple splits give more consistent results?\n",
        "2. Does it give more accurate estimate of test accuracy?\n",
        "3. What is the effect of the number of iterations on the estimate? Do we get a better estimate with higher iterations?\n",
        "4. Consider the results you got for the previous questions. Can we deal with a very small train dataset or validation dataset by increasing the iterations?\n"
      ]
    },
    {
      "cell_type": "markdown",
      "metadata": {
        "id": "z-SBxy1qevgJ"
      },
      "source": [
        "> Exercise: How does the accuracy of the 3 nearest neighbour classifier change with the number of splits? How is it affected by the split size? Compare the results with the 1 nearest neighbour classifier."
      ]
    },
    {
      "cell_type": "markdown",
      "source": [
        "1A:\n",
        "\n",
        "### 1. **Reduces Variance**\n",
        "   - In a single train-test split, the validation accuracy can vary significantly depending on how the data is split. If the split happens to include an unusual distribution of classes or data points, it can give an unrepresentative estimate of the model's performance.\n",
        "   - By averaging the accuracy across multiple splits, the model is tested on different subsets of the data, reducing the impact of any particular outlier or unusual data distribution, and hence producing a more **stable estimate** of the model's true performance.\n",
        "\n",
        "### 2. **More Comprehensive Testing**\n",
        "   - **k-fold cross-validation** ensures that every data point is used for both training and validation (though in different folds), meaning that the model gets exposed to all parts of the data. This reduces the likelihood that the model’s performance is skewed by a biased split or by not encountering important patterns in the training set.\n",
        "   - This ensures the model is tested under various conditions, making the evaluation more **robust**.\n",
        "\n",
        "### 3. **Prevents Overfitting to a Specific Split**\n",
        "   - If you rely on a single validation split, the model may perform particularly well or poorly based on the random allocation of training and validation data. This can lead to overfitting on a specific set of data or underestimating performance due to an unfavorable validation set.\n",
        "   - By averaging across splits, you reduce the risk of overfitting to any one particular validation set.\n",
        "\n",
        "### 4. **More Reliable for Model Comparison**\n",
        "   - When comparing different models or hyperparameter settings, averaging accuracy across multiple splits gives a better picture of how each model performs across a range of data distributions. This makes it easier to identify the model that generalizes the best, rather than one that might have performed well on a lucky validation split.\n",
        "   \n",
        "### 5. **Reduced Sensitivity to Data Order**\n",
        "   - Some algorithms can be sensitive to the order in which data is provided. By shuffling and splitting the data into multiple folds, you can mitigate the risk that any single validation split disproportionately affects the results due to the data order.\n",
        "\n",
        "### When Does Averaging Across Multiple Splits Help the Most?\n",
        "- **Small Datasets**: On small datasets, a single train-test split can lead to high variance in performance. Cross-validation (and averaging accuracies) is especially helpful here, as it ensures all data points are used for training and validation.\n",
        "- **Class Imbalance**: If you have imbalanced classes, a single split might not evenly distribute the classes between training and validation sets. Cross-validation helps to ensure that the evaluation is more balanced.\n",
        "- **Noisy Data**: If your dataset contains noise or outliers, the performance of a model may vary depending on whether these noisy data points end up in the training or validation set. Averaging across splits smooths out these effects.\n",
        "\n",
        "### Limitations of Averaging Validation Accuracy\n",
        "- **Computational Cost**: Running multiple splits (especially in **k-fold cross-validation**) can be computationally expensive, particularly with large datasets or complex models. However, this trade-off is often worth it for the increased reliability.\n",
        "- **Data Leakage**: Care must be taken to ensure that no information from the validation set leaks into the training set during cross-validation. This could occur if preprocessing is not done correctly (e.g., normalizing data before splitting).\n",
        "\n",
        "### Conclusion\n",
        "Averaging the validation accuracy across multiple splits (through techniques like cross-validation) generally provides **more consistent, reliable, and unbiased results**. It helps reduce the impact of random chance associated with any single data split, making it a preferred method for model evaluation, especially in scenarios where data is limited or the model is prone to overfitting."
      ],
      "metadata": {
        "id": "C4hZ130jxVBA"
      }
    },
    {
      "cell_type": "markdown",
      "source": [
        "2A:\n",
        "\n",
        "### 1. **Reduces Bias**\n",
        "   - In a single train-test split, the validation accuracy can be influenced by the specific selection of data points in the training and test sets. This split might not be representative of the entire dataset, leading to either an optimistic or pessimistic estimate of the model's performance.\n",
        "   - By using multiple splits and averaging the accuracy, you reduce the bias that comes from an unrepresentative single split. Each fold gives the model a chance to train on different portions of the data, resulting in a more balanced and accurate reflection of the model's performance on unseen data.\n",
        "\n",
        "### 2. **Simulates Multiple Test Scenarios**\n",
        "   - Each fold in **k-fold cross-validation** can be seen as a simulation of a different test scenario. Since the model is evaluated on different subsets of the data in each fold, the averaged validation accuracy provides a more realistic estimate of how the model will perform on truly unseen test data, accounting for various possible data distributions.\n",
        "   - The **variance** of the test set distribution is captured, making the average validation accuracy a better predictor of the actual test performance.\n",
        "\n",
        "### 3. **Uses More Data for Training**\n",
        "   - In each fold, a different subset of the data is used for validation, while the rest is used for training. This means that over the course of the cross-validation, **all data points** are eventually used for both training and validation.\n",
        "   - This leads to a more **comprehensive utilization of the dataset**, reducing the likelihood that important patterns are missed during training, and thus improving the model’s ability to generalize to new data.\n",
        "\n",
        "### 4. **Smoothed Out Performance Estimates**\n",
        "   - Averaging over multiple folds helps smooth out fluctuations in performance that may be caused by chance. For example, a model might perform unusually well on one fold because the validation set is easier, or poorly on another due to difficult or outlier data points. Averaging these results gives a more **consistent and reliable** estimate of how well the model would perform on a truly unseen test set.\n",
        "\n",
        "### 5. **Improves Estimate of Generalization Error**\n",
        "   - Generalization error refers to the difference in performance between training data and unseen test data. **k-fold cross-validation** provides a better estimate of the generalization error because it forces the model to learn and be validated on different portions of the data, mimicking how the model might generalize to unseen test data in practice.\n",
        "   - Averaging across folds smooths out noise and variability that could distort the estimate in a single train-test split.\n",
        "\n",
        "### 6. **Helps with Class Imbalance**\n",
        "   - If your dataset has an imbalance between classes, a single train-test split might not have an even distribution of classes in the validation set, leading to a misleading accuracy estimate. **k-fold cross-validation** ensures that each class gets represented in multiple splits, giving a more accurate estimate of the model's ability to generalize across all classes.\n",
        "\n",
        "### 7. **Minimizes Overfitting to Specific Splits**\n",
        "   - If a model is overfitting to a specific training set (as might happen in a single train-test split), the validation accuracy might be artificially high, leading to an inaccurate estimate of the test accuracy. By using multiple splits, you reduce the risk of overfitting to any one particular validation set and get a more accurate view of how the model will perform on unseen data.\n",
        "\n",
        "### Important Considerations\n",
        "- **Training vs Test Data Leakage**: While cross-validation provides a more accurate estimate of test accuracy, it's essential to ensure that there is no data leakage (such as normalizing data before splitting or using future information in a time series). Otherwise, the accuracy estimate will be overly optimistic and unreliable.\n",
        "- **Hyperparameter Tuning**: If you're using cross-validation to tune hyperparameters, the final estimate of test accuracy should come from a completely **separate test set** that was not used during the cross-validation or tuning process. This prevents overfitting to the cross-validation process itself.\n",
        "\n",
        "### Conclusion\n",
        "Averaging the validation accuracy across multiple splits does indeed provide a more **accurate and reliable estimate of test accuracy** than relying on a single train-test split. It reduces variance, bias, and overfitting while utilizing more data for training, leading to a better reflection of how the model will perform on unseen test data."
      ],
      "metadata": {
        "id": "mQdq8wRqxkbN"
      }
    },
    {
      "cell_type": "markdown",
      "source": [
        "3A:\n",
        "\n",
        "1. **Convergence to True Value**: As the number of iterations increases, the estimate tends to converge toward the true value, assuming the algorithm is designed properly. Each iteration adds more information or refines the approximation, reducing the impact of noise or randomness.\n",
        "\n",
        "2. **Reduction in Variance**: With more iterations, the variance of the estimate usually decreases. This means the estimate becomes more stable and less sensitive to random fluctuations or outliers.\n",
        "\n",
        "3. **Law of Large Numbers**: In the case of simulations like Monte Carlo, the law of large numbers suggests that as the number of iterations (or trials) increases, the average of the results becomes closer to the expected value.\n",
        "\n",
        "4. **Better Exploration of the Solution Space**: In optimization algorithms, more iterations allow the algorithm to explore the solution space more thoroughly, reducing the risk of being trapped in local minima and moving closer to a global optimum.\n",
        "\n",
        "### Trade-offs:\n",
        "- **Diminishing Returns**: While more iterations generally improve the estimate, there is a point of diminishing returns where additional iterations offer very marginal improvements.\n",
        "- **Computational Cost**: Higher iterations also mean increased computational time and resource usage, so there’s a balance between the quality of the estimate and the time available to compute it.\n",
        "\n",
        "In summary, higher iterations typically provide better estimates but come with computational trade-offs, and the rate of improvement may slow down after a certain point."
      ],
      "metadata": {
        "id": "iXO0nEYJxthB"
      }
    },
    {
      "cell_type": "markdown",
      "source": [
        "4A:\n",
        "\n",
        "### 1. **Overfitting on Small Training Datasets**:\n",
        "   - **More iterations** on a very small training dataset can lead to overfitting, where the model learns the noise and specific details of the small dataset rather than general patterns that apply to unseen data. The model might perform very well on the training set but poorly on the test or validation set.\n",
        "   - Increasing iterations doesn’t increase the variety of examples, so the model may fail to generalize well to new, unseen data.\n",
        "\n",
        "### 2. **Insufficient Generalization**:\n",
        "   - With a **small training set**, the model lacks enough information about the underlying distribution of the data. No matter how many iterations you use, the model will still be trained on a limited and potentially biased set of examples, resulting in poor generalization to real-world data or unseen samples.\n",
        "   \n",
        "### 3. **Validation Dataset Problems**:\n",
        "   - If the **validation dataset** is too small, increasing iterations may give misleading performance metrics. A small validation set can lead to high variance in evaluation results, making it difficult to assess whether the model is truly improving or just performing well by chance on the small set of validation examples.\n",
        "\n",
        "### 4. **Bias-Variance Tradeoff**:\n",
        "   - A small dataset introduces high variance (large fluctuations between different datasets) and potentially high bias (if the data does not capture the underlying complexity of the problem). Increasing iterations doesn’t address this issue; it may reduce variance but will not reduce bias caused by the small dataset size.\n",
        "\n",
        "### 5. **Solutions**:\n",
        "   - **Data Augmentation**: For small datasets, you can artificially expand the training data through techniques like data augmentation, especially in domains like image processing.\n",
        "   - **Regularization**: Use regularization techniques (like L2 regularization, dropout, or early stopping) to prevent overfitting, especially with small datasets.\n",
        "   - **Transfer Learning**: Instead of training from scratch on a small dataset, you can use a pre-trained model and fine-tune it on your small dataset.\n",
        "   - **Cross-validation**: Instead of a fixed validation set, use cross-validation to make better use of the limited data available and get a more reliable estimate of model performance.\n",
        "\n",
        "In summary, increasing iterations cannot compensate for a small training or validation dataset. Data quantity and quality are key factors in model performance, and other strategies like data augmentation, transfer learning, and regularization are more effective ways to address small datasets."
      ],
      "metadata": {
        "id": "HLOr0BBoxyyj"
      }
    }
  ],
  "metadata": {
    "colab": {
      "provenance": [],
      "include_colab_link": true
    },
    "kernelspec": {
      "display_name": "Python 3",
      "name": "python3"
    },
    "language_info": {
      "codemirror_mode": {
        "name": "ipython",
        "version": 3
      },
      "file_extension": ".py",
      "mimetype": "text/x-python",
      "name": "python",
      "nbconvert_exporter": "python",
      "pygments_lexer": "ipython3",
      "version": "3.10.10"
    }
  },
  "nbformat": 4,
  "nbformat_minor": 0
}